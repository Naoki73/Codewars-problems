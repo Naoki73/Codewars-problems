{
 "cells": [
  {
   "attachments": {},
   "cell_type": "markdown",
   "metadata": {},
   "source": [
    "Your task is to make two functions ( max and min, or maximum and minimum, etc., depending on the language ) that receive a list of integers as input, and return the largest and lowest number in that list, respectively.\n",
    "Examples (Input -> Output)\n",
    "\n",
    "* [4,6,2,1,9,63,-134,566]         -> max = 566, min = -134\n",
    "* [-52, 56, 30, 29, -54, 0, -110] -> min = -110, max = 56\n",
    "* [42, 54, 65, 87, 0]             -> min = 0, max = 87\n",
    "* [5]                             -> min = 5, max = 5\n",
    "\n",
    "Notes\n",
    "\n",
    "    You may consider that there will not be any empty arrays/vectors.\n",
    "\n"
   ]
  },
  {
   "cell_type": "code",
   "execution_count": 4,
   "metadata": {},
   "outputs": [
    {
     "data": {
      "text/plain": [
       "566"
      ]
     },
     "execution_count": 4,
     "metadata": {},
     "output_type": "execute_result"
    }
   ],
   "source": [
    "def minimum(arr):\n",
    "    return min(arr)\n",
    "\n",
    "def maximum(arr):\n",
    "    return max(arr)\n",
    "\n",
    "\n",
    "\n",
    "\n",
    "minimum([4,6,2,1,9,63,-134,566] )\n",
    "\n",
    "maximum([4,6,2,1,9,63,-134,566] )"
   ]
  },
  {
   "attachments": {},
   "cell_type": "markdown",
   "metadata": {},
   "source": [
    "Write function RemoveExclamationMarks which removes all exclamation marks from a given string."
   ]
  },
  {
   "cell_type": "code",
   "execution_count": 5,
   "metadata": {},
   "outputs": [
    {
     "data": {
      "text/plain": [
       "'Hello World'"
      ]
     },
     "execution_count": 5,
     "metadata": {},
     "output_type": "execute_result"
    }
   ],
   "source": [
    "def remove_exclamation_marks(s):\n",
    "    return s.replace(\"!\",\"\")\n",
    "\n",
    "remove_exclamation_marks(\"Hello World!!!\")"
   ]
  },
  {
   "attachments": {},
   "cell_type": "markdown",
   "metadata": {},
   "source": [
    "This code does not execute properly. Try to figure out why.\n",
    "\n",
    "def multiply(a, b):\n",
    "    a * b"
   ]
  },
  {
   "cell_type": "code",
   "execution_count": 7,
   "metadata": {},
   "outputs": [
    {
     "data": {
      "text/plain": [
       "2"
      ]
     },
     "execution_count": 7,
     "metadata": {},
     "output_type": "execute_result"
    }
   ],
   "source": [
    "def multiply(a, b):\n",
    "    answer = a * b \n",
    "    \n",
    "    return answer\n",
    "\n",
    "multiply(2,1)\n",
    "    "
   ]
  },
  {
   "attachments": {},
   "cell_type": "markdown",
   "metadata": {},
   "source": [
    "Complete function saleHotdogs/SaleHotDogs/sale_hotdogs, function accepts 1 parameter:n, n is the number of hotdogs a customer will buy, different numbers have different prices (refer to the following table), return how much money will the customer spend to buy that number of hotdogs."
   ]
  },
  {
   "cell_type": "code",
   "execution_count": 8,
   "metadata": {},
   "outputs": [
    {
     "data": {
      "text/plain": [
       "475"
      ]
     },
     "execution_count": 8,
     "metadata": {},
     "output_type": "execute_result"
    }
   ],
   "source": [
    "def sale_hotdogs(n):\n",
    "    if n < 5:\n",
    "        price = 100 * n\n",
    "    elif n < 10 and n >= 5:\n",
    "        price = 95 * n\n",
    "    else:\n",
    "        price = 90 * n\n",
    "    return price\n",
    "\n",
    "sale_hotdogs(5)"
   ]
  },
  {
   "attachments": {},
   "cell_type": "markdown",
   "metadata": {},
   "source": [
    "This function should return an object, but it's not doing what's intended. What's wrong?\n",
    "\n",
    "def mystery():\n",
    "    results = {\n",
    "    'sanity': 'Hello'}\n",
    "    return\n",
    "    results"
   ]
  },
  {
   "cell_type": "code",
   "execution_count": 9,
   "metadata": {},
   "outputs": [
    {
     "data": {
      "text/plain": [
       "{'sanity': 'Hello'}"
      ]
     },
     "execution_count": 9,
     "metadata": {},
     "output_type": "execute_result"
    }
   ],
   "source": [
    "def mystery():\n",
    "    results = {\n",
    "    'sanity': 'Hello'}\n",
    "    return results\n",
    "\n",
    "mystery()"
   ]
  },
  {
   "attachments": {},
   "cell_type": "markdown",
   "metadata": {},
   "source": [
    "Inspired by the development team at Vooza, write the function that\n",
    "\n",
    "    accepts the name of a programmer, and\n",
    "    returns the number of lightsabers owned by that person.\n",
    "\n",
    "The only person who owns lightsabers is Zach, by the way. He owns 18, which is an awesome number of lightsabers. Anyone else owns 0.\n",
    "\n",
    "Note: your function should have a default parameter.\n",
    "\n",
    "For example(Input --> Output):\n",
    "\n",
    "\"anyone else\" --> 0\n",
    "\"Zach\" --> 18\n",
    "\n"
   ]
  },
  {
   "cell_type": "code",
   "execution_count": 10,
   "metadata": {},
   "outputs": [
    {
     "name": "stdout",
     "output_type": "stream",
     "text": [
      "18\n"
     ]
    }
   ],
   "source": [
    "def how_many_light_sabers_do_you_own(name=\"\"):\n",
    "    if name == \"Zach\":\n",
    "        return 18\n",
    "    else:\n",
    "        return 0\n",
    "    \n",
    "lightsabers = how_many_light_sabers_do_you_own(\"Zach\")\n",
    "\n",
    "print(lightsabers)"
   ]
  },
  {
   "attachments": {},
   "cell_type": "markdown",
   "metadata": {},
   "source": [
    "Write a function that checks if a given string (case insensitive) is a palindrome."
   ]
  },
  {
   "cell_type": "code",
   "execution_count": 11,
   "metadata": {},
   "outputs": [
    {
     "data": {
      "text/plain": [
       "True"
      ]
     },
     "execution_count": 11,
     "metadata": {},
     "output_type": "execute_result"
    }
   ],
   "source": [
    "def is_palindrome(s):\n",
    "    \n",
    "    if s.lower() == s.lower()[::-1]:\n",
    "        return True\n",
    "    else:\n",
    "        return False\n",
    "\n",
    "is_palindrome('racecar')\n",
    "    "
   ]
  },
  {
   "attachments": {},
   "cell_type": "markdown",
   "metadata": {},
   "source": [
    "Debugging sayHello function\n",
    "\n",
    "The starship Enterprise has run into some problem when creating a program to greet everyone as they come aboard. It is your job to fix the code and get the program working again!\n",
    "\n",
    "Example output:\n",
    "\n",
    "Hello, Mr. Spock\n",
    "\n"
   ]
  },
  {
   "cell_type": "code",
   "execution_count": 12,
   "metadata": {},
   "outputs": [
    {
     "data": {
      "text/plain": [
       "'Hello, Mr. Spock'"
      ]
     },
     "execution_count": 12,
     "metadata": {},
     "output_type": "execute_result"
    }
   ],
   "source": [
    "def say_hello(name):\n",
    "    return (\"Hello, \" + name)\n",
    "\n",
    "say_hello(\"Mr. Spock\")"
   ]
  },
  {
   "attachments": {},
   "cell_type": "markdown",
   "metadata": {},
   "source": [
    "altERnaTIng cAsE <=> ALTerNAtiNG CaSe\n",
    "\n",
    "Define String.prototype.toAlternatingCase (or a similar function/method such as to_alternating_case/toAlternatingCase/ToAlternatingCase in your selected language; see the initial solution for details) such that each lowercase letter becomes uppercase and each uppercase letter becomes lowercase. For example:\n",
    "\n",
    "\"hello world\".toAlternatingCase() === \"HELLO WORLD\"\n",
    "\"HELLO WORLD\".toAlternatingCase() === \"hello world\"\n",
    "\"hello WORLD\".toAlternatingCase() === \"HELLO world\"\n",
    "\"HeLLo WoRLD\".toAlternatingCase() === \"hEllO wOrld\"\n",
    "\"12345\".toAlternatingCase()       === \"12345\"                   // Non-alphabetical characters are unaffected\n",
    "\"1a2b3c4d5e\".toAlternatingCase()  === \"1A2B3C4D5E\"\n",
    "\"String.prototype.toAlternatingCase\".toAlternatingCase() === \"sTRING.PROTOTYPE.TOaLTERNATINGcASE\"\n",
    "\n",
    "As usual, your function/method should be pure, i.e. it should not mutate the original string.\n"
   ]
  },
  {
   "cell_type": "code",
   "execution_count": 13,
   "metadata": {},
   "outputs": [
    {
     "data": {
      "text/plain": [
       "'HELLO world'"
      ]
     },
     "execution_count": 13,
     "metadata": {},
     "output_type": "execute_result"
    }
   ],
   "source": [
    "def to_alternating_case(string):\n",
    "    return string.swapcase()\n",
    "\n",
    "to_alternating_case(\"hello WORLD\")"
   ]
  },
  {
   "attachments": {},
   "cell_type": "markdown",
   "metadata": {},
   "source": [
    "Task:\n",
    "\n",
    "In this kata, you need to return the number of bytes (aka. memory size) a given object takes up.\n",
    "\n",
    "Different variable types will be given, but they will all be valid. Also, random generation for strings takes out of Unicode, not the regular 255 ascii letters.\n",
    "\n",
    "p.s: Don't be afraid to use the internet. It \"byte\" come in handy :)"
   ]
  },
  {
   "cell_type": "code",
   "execution_count": 14,
   "metadata": {},
   "outputs": [
    {
     "data": {
      "text/plain": [
       "28"
      ]
     },
     "execution_count": 14,
     "metadata": {},
     "output_type": "execute_result"
    }
   ],
   "source": [
    "import sys\n",
    "\n",
    "def total_bytes(object):\n",
    "    return sys.getsizeof(object)\n",
    "\n",
    "total_bytes(123)"
   ]
  },
  {
   "attachments": {},
   "cell_type": "markdown",
   "metadata": {},
   "source": [
    "Description\n",
    "\n",
    "We need a function that can transform a string into a number. What ways of achieving this do you know?\n",
    "\n",
    "Note: Don't worry, all inputs will be strings, and every string is a perfectly valid representation of an integral number.\n",
    "Examples\n",
    "\n",
    "\"1234\" --> 1234\n",
    "\"605\"  --> 605\n",
    "\"1405\" --> 1405\n",
    "\"-7\" --> -7\n"
   ]
  },
  {
   "cell_type": "code",
   "execution_count": 16,
   "metadata": {},
   "outputs": [
    {
     "data": {
      "text/plain": [
       "1234"
      ]
     },
     "execution_count": 16,
     "metadata": {},
     "output_type": "execute_result"
    }
   ],
   "source": [
    "def string_to_number(s):\n",
    "    return int(s)\n",
    "    \n",
    "string_to_number(\"1234\")"
   ]
  },
  {
   "attachments": {},
   "cell_type": "markdown",
   "metadata": {},
   "source": [
    "This code should store \"codewa.rs\" as a variable called name but it's not working. Can you figure out why?"
   ]
  },
  {
   "cell_type": "code",
   "execution_count": 17,
   "metadata": {},
   "outputs": [],
   "source": [
    "a = \"code\"\n",
    "b = \"wa.rs\"\n",
    "name = a + b"
   ]
  },
  {
   "attachments": {},
   "cell_type": "markdown",
   "metadata": {},
   "source": [
    "Write a function that takes a list of strings as an argument and returns a filtered list containing the same elements but with the 'geese' removed.\n",
    "\n",
    "The geese are any strings in the following array, which is pre-populated in your solution:\n",
    "\n",
    "  [\"African\", \"Roman Tufted\", \"Toulouse\", \"Pilgrim\", \"Steinbacher\"]\n",
    "\n",
    "For example, if this array were passed as an argument:\n",
    "\n",
    " [\"Mallard\", \"Hook Bill\", \"African\", \"Crested\", \"Pilgrim\", \"Toulouse\", \"Blue Swedish\"]\n",
    "\n",
    "Your function would return the following array:\n",
    "\n",
    "[\"Mallard\", \"Hook Bill\", \"Crested\", \"Blue Swedish\"]\n",
    "\n",
    "The elements in the returned array should be in the same order as in the initial array passed to your function, albeit with the 'geese' removed. Note that all of the strings will be in the same case as those provided, and some elements may be repeated.\n"
   ]
  },
  {
   "cell_type": "code",
   "execution_count": 19,
   "metadata": {},
   "outputs": [
    {
     "data": {
      "text/plain": [
       "['Mallard', 'Barbary', 'Hook Bill', 'Blue Swedish', 'Crested']"
      ]
     },
     "execution_count": 19,
     "metadata": {},
     "output_type": "execute_result"
    }
   ],
   "source": [
    "geese = [\"African\", \"Roman Tufted\", \"Toulouse\", \"Pilgrim\", \"Steinbacher\"]\n",
    "def goose_filter(birds):\n",
    "    geese = [\"African\", \"Roman Tufted\", \"Toulouse\", \"Pilgrim\", \"Steinbacher\"]\n",
    "    \n",
    "    return [bird for bird in birds if bird not in geese]\n",
    "\n",
    "goose_filter([\"Mallard\", \"Barbary\", \"Hook Bill\", \"Blue Swedish\", \"Crested\"])"
   ]
  },
  {
   "attachments": {},
   "cell_type": "markdown",
   "metadata": {},
   "source": [
    "Trolls are attacking your comment section!\n",
    "\n",
    "A common way to deal with this situation is to remove all of the vowels from the trolls' comments, neutralizing the threat.\n",
    "\n",
    "Your task is to write a function that takes a string and return a new string with all vowels removed.\n",
    "\n",
    "For example, the string \"This website is for losers LOL!\" would become \"Ths wbst s fr lsrs LL!\".\n",
    "\n",
    "Note: for this kata y isn't considered a vowel.\n"
   ]
  },
  {
   "cell_type": "code",
   "execution_count": 20,
   "metadata": {},
   "outputs": [
    {
     "data": {
      "text/plain": [
       "'Ths wbst s fr lsrs LL!'"
      ]
     },
     "execution_count": 20,
     "metadata": {},
     "output_type": "execute_result"
    }
   ],
   "source": [
    "def disemvowel(string_):\n",
    "    vowels = [\"A\", \"E\", \"I\", \"O\", \"U\"]\n",
    "    \n",
    "    for character in 'AEIOUaeiou':\n",
    "        string_ = string_.replace(character, \"\")\n",
    "    \n",
    "    return string_\n",
    "\n",
    "disemvowel(\"This website is for losers LOL!\")"
   ]
  },
  {
   "attachments": {},
   "cell_type": "markdown",
   "metadata": {},
   "source": [
    "Task\n",
    "\n",
    "Given an array of integers, remove the smallest value. Do not mutate the original array/list. If there are multiple elements with the same value, remove the one with a lower index. If you get an empty array/list, return an empty array/list.\n",
    "\n",
    "Don't change the order of the elements that are left.\n",
    "Examples\n",
    "\n",
    "* Input: [1,2,3,4,5], output = [2,3,4,5]\n",
    "* Input: [5,3,2,1,4], output = [5,3,2,4]\n",
    "* Input: [2,2,1,2,1], output = [2,2,2,1]\n"
   ]
  },
  {
   "cell_type": "code",
   "execution_count": 21,
   "metadata": {},
   "outputs": [
    {
     "data": {
      "text/plain": [
       "[2, 3, 4, 5]"
      ]
     },
     "execution_count": 21,
     "metadata": {},
     "output_type": "execute_result"
    }
   ],
   "source": [
    "def remove_smallest(numbers):\n",
    "\n",
    "    num_copy = numbers[:]\n",
    "    \n",
    "    if not num_copy:\n",
    "        return []\n",
    "    \n",
    "    minimum = min(num_copy)\n",
    "    \n",
    "    \n",
    "    num_copy.remove(minimum)\n",
    "    \n",
    "    return num_copy\n",
    "    \n",
    "remove_smallest([1, 2, 3, 4, 5])"
   ]
  },
  {
   "attachments": {},
   "cell_type": "markdown",
   "metadata": {},
   "source": [
    "Debug celsius converter\n",
    "\n",
    "Your friend is traveling abroad to the United States so he wrote a program to convert fahrenheit to celsius. Unfortunately his code has some bugs.\n",
    "\n",
    "Find the errors in the code to get the celsius converter working properly.\n",
    "\n",
    "To convert fahrenheit to celsius:\n",
    "\n",
    "celsius = (fahrenheit - 32) * (5/9)\n",
    "\n",
    "Remember that typically temperatures in the current weather conditions are given in whole numbers. It is possible for temperature sensors to report temperatures with a higher accuracy such as to the nearest tenth. Instrument error though makes this sort of accuracy unreliable for many types of temperature measuring sensors.\n"
   ]
  },
  {
   "cell_type": "code",
   "execution_count": 22,
   "metadata": {},
   "outputs": [
    {
     "data": {
      "text/plain": [
       "'10.0 is above freezing temperature'"
      ]
     },
     "execution_count": 22,
     "metadata": {},
     "output_type": "execute_result"
    }
   ],
   "source": [
    "\n",
    "\n",
    "def weather_info (temp):\n",
    "    c = convert(temp)\n",
    "    if (c > 0):\n",
    "        return (str(c) + \" is above freezing temperature\")\n",
    "    else:\n",
    "        return (str(c) + \" is freezing temperature\")\n",
    "    \n",
    "def convert(temperature):\n",
    "    celsius = (temperature - 32) * (5/9)\n",
    "   \n",
    "  \n",
    "    return celsius\n",
    "\n",
    "weather_info(50)"
   ]
  },
  {
   "attachments": {},
   "cell_type": "markdown",
   "metadata": {},
   "source": [
    "Given a month as an integer from 1 to 12, return to which quarter of the year it belongs as an integer number.\n",
    "\n",
    "For example: month 2 (February), is part of the first quarter; month 6 (June), is part of the second quarter; and month 11 (November), is part of the fourth quarter.\n",
    "\n",
    "Constraint:\n",
    "\n",
    "    1 <= month <= 12\n",
    "\n"
   ]
  },
  {
   "cell_type": "code",
   "execution_count": 24,
   "metadata": {},
   "outputs": [
    {
     "data": {
      "text/plain": [
       "1"
      ]
     },
     "execution_count": 24,
     "metadata": {},
     "output_type": "execute_result"
    }
   ],
   "source": [
    "def quarter_of(month):\n",
    "    q1 = [1, 2, 3]\n",
    "    q2 = [4, 5, 6]\n",
    "    q3 = [7, 8, 9]\n",
    "    q4 = [10, 11, 12]\n",
    "    \n",
    "    if month in q1:\n",
    "        return 1\n",
    "    if month in q2:\n",
    "        return 2\n",
    "    if month in q3:\n",
    "        return 3\n",
    "    if month in q4:\n",
    "        return 4\n",
    "    \n",
    "quarter_of(3)"
   ]
  },
  {
   "attachments": {},
   "cell_type": "markdown",
   "metadata": {},
   "source": [
    "Your function takes two arguments:\n",
    "\n",
    "    current father's age (years)\n",
    "    current age of his son (years)\n",
    "\n",
    "Сalculate how many years ago the father was twice as old as his son (or in how many years he will be twice as old). The answer is always greater or equal to 0, no matter if it was in the past or it is in the future.\n"
   ]
  },
  {
   "cell_type": "code",
   "execution_count": 25,
   "metadata": {},
   "outputs": [
    {
     "data": {
      "text/plain": [
       "22"
      ]
     },
     "execution_count": 25,
     "metadata": {},
     "output_type": "execute_result"
    }
   ],
   "source": [
    "def twice_as_old(dad_years_old, son_years_old):\n",
    "    difference = son_years_old * 2 \n",
    "    \n",
    "    if difference == dad_years_old:\n",
    "        return 0\n",
    "        \n",
    "    elif difference < 0:\n",
    "        return abs(difference) \n",
    "    \n",
    "    elif difference < dad_years_old:\n",
    "        return dad_years_old - difference\n",
    "    \n",
    "    elif difference > dad_years_old:\n",
    "        return difference - dad_years_old\n",
    "    \n",
    "    else:\n",
    "        return difference\n",
    "        \n",
    "twice_as_old(36, 7)"
   ]
  },
  {
   "attachments": {},
   "cell_type": "markdown",
   "metadata": {},
   "source": [
    "Task\n",
    "\n",
    "You have:\n",
    "\n",
    "    a float value that comes from a computation and may have accumulated errors up to ±0.001\n",
    "    a reference value\n",
    "\n",
    "    a function approx_equals that compare the two values taking into account loss of precision; the function should return True if and only if the two values are close to each other, the maximum allowed difference is 0.001\n",
    "\n",
    "The function is bugged and sometimes returns wrong results.\n",
    "\n",
    "Your task is to correct the bug."
   ]
  },
  {
   "cell_type": "code",
   "execution_count": 26,
   "metadata": {},
   "outputs": [
    {
     "data": {
      "text/plain": [
       "False"
      ]
     },
     "execution_count": 26,
     "metadata": {},
     "output_type": "execute_result"
    }
   ],
   "source": [
    "def approx_equals(a, b):\n",
    "    return abs(a - b) <= 0.001\n",
    "\n",
    "approx_equals(175.9827, 82.25)"
   ]
  },
  {
   "attachments": {},
   "cell_type": "markdown",
   "metadata": {},
   "source": [
    "You are given the length and width of a 4-sided polygon. The polygon can either be a rectangle or a square.\n",
    "If it is a square, return its area. If it is a rectangle, return its perimeter.\n",
    "\n",
    "Example(Input1, Input2 --> Output):\n",
    "\n",
    "6, 10 --> 32\n",
    "3, 3 --> 9\n",
    "\n",
    "Note: for the purposes of this kata you will assume that it is a square if its length and width are equal, otherwise it is a rectangle.\n"
   ]
  },
  {
   "cell_type": "code",
   "execution_count": 27,
   "metadata": {},
   "outputs": [
    {
     "data": {
      "text/plain": [
       "16"
      ]
     },
     "execution_count": 27,
     "metadata": {},
     "output_type": "execute_result"
    }
   ],
   "source": [
    "def area_or_perimeter(l , w):\n",
    "    if l == w:\n",
    "        answer = l*w \n",
    "    elif l != w:\n",
    "        answer = (l*2) + (w*2)\n",
    "    \n",
    "    return answer\n",
    "\n",
    "area_or_perimeter(4, 4)"
   ]
  },
  {
   "attachments": {},
   "cell_type": "markdown",
   "metadata": {},
   "source": [
    "In this kata you should simply determine, whether a given year is a leap year or not. In case you don't know the rules, here they are:\n",
    "\n",
    "    years divisible by 4 are leap years\n",
    "    but years divisible by 100 are not leap years\n",
    "    but years divisible by 400 are leap years\n",
    "\n",
    "Additional Notes:\n",
    "\n",
    "    Only valid years (positive integers) will be tested, so you don't have to validate them\n",
    "\n",
    "Examples can be found in the test fixture.\n"
   ]
  },
  {
   "cell_type": "code",
   "execution_count": 4,
   "metadata": {},
   "outputs": [
    {
     "data": {
      "text/plain": [
       "True"
      ]
     },
     "execution_count": 4,
     "metadata": {},
     "output_type": "execute_result"
    }
   ],
   "source": [
    "def isLeapYear(year):\n",
    "    if (year % 100) == 0 and (year % 400) != 0:\n",
    "        return False\n",
    "    elif (year % 400) == 0:\n",
    "        return True\n",
    "    elif (year%4) == 0:\n",
    "        return True\n",
    "    else:\n",
    "        return False\n",
    "    \n",
    "isLeapYear(2000)"
   ]
  },
  {
   "attachments": {},
   "cell_type": "markdown",
   "metadata": {},
   "source": [
    "Create a function that takes an integer as an argument and returns \"Even\" for even numbers or \"Odd\" for odd numbers."
   ]
  },
  {
   "cell_type": "code",
   "execution_count": 5,
   "metadata": {},
   "outputs": [
    {
     "data": {
      "text/plain": [
       "'Even'"
      ]
     },
     "execution_count": 5,
     "metadata": {},
     "output_type": "execute_result"
    }
   ],
   "source": [
    "def even_or_odd(number):\n",
    "    \n",
    "    \n",
    "    if (number%2) == 0:\n",
    "        return \"Even\"\n",
    "    elif (number%2) != 0:\n",
    "        return \"Odd\"\n",
    "    \n",
    "even_or_odd(14)"
   ]
  },
  {
   "attachments": {},
   "cell_type": "markdown",
   "metadata": {},
   "source": [
    "In this simple assignment you are given a number and have to make it negative. But maybe the number is already negative?\n",
    "Examples\n",
    "\n",
    "make_negative(1);  # return -1\n",
    "make_negative(-5); # return -5\n",
    "make_negative(0);  # return 0\n",
    "\n",
    "Notes\n",
    "\n",
    "    The number can be negative already, in which case no change is required.\n",
    "    Zero (0) is not checked for any specific sign. Negative zeros make no mathematical sense.\n",
    "\n"
   ]
  },
  {
   "cell_type": "code",
   "execution_count": 7,
   "metadata": {},
   "outputs": [
    {
     "data": {
      "text/plain": [
       "-1000"
      ]
     },
     "execution_count": 7,
     "metadata": {},
     "output_type": "execute_result"
    }
   ],
   "source": [
    "def make_negative( number ):\n",
    "    if number < 0:\n",
    "        pass\n",
    "    if number > 0:\n",
    "        return number - (number*2)\n",
    "    return number\n",
    "\n",
    "make_negative(1000)"
   ]
  },
  {
   "attachments": {},
   "cell_type": "markdown",
   "metadata": {},
   "source": [
    "Convert number to reversed array of digits\n",
    "\n",
    "Given a random non-negative number, you have to return the digits of this number within an array in reverse order.\n",
    "Example(Input => Output):\n",
    "\n",
    "35231 => [1,3,2,5,3]\n",
    "0 => [0]\n",
    "\n"
   ]
  },
  {
   "cell_type": "code",
   "execution_count": 9,
   "metadata": {},
   "outputs": [
    {
     "data": {
      "text/plain": [
       "[1, 3, 2, 5, 3]"
      ]
     },
     "execution_count": 9,
     "metadata": {},
     "output_type": "execute_result"
    }
   ],
   "source": [
    "def digitize(n):\n",
    "    \n",
    "    nstring = str(n)\n",
    "    \n",
    "    numbers = list(nstring)\n",
    "    \n",
    "    numbers.reverse()\n",
    "    \n",
    "    number_list = list(map(int, numbers))\n",
    "        \n",
    "    return number_list\n",
    "\n",
    "digitize((35231))"
   ]
  },
  {
   "attachments": {},
   "cell_type": "markdown",
   "metadata": {},
   "source": [
    "Complete the square sum function so that it squares each number passed into it and then sums the results together.\n",
    "\n",
    "For example, for [1, 2, 2] it should return 9 because 12+22+22=91^2 + 2^2 + 2^2 = 912+22+22=9.\n"
   ]
  },
  {
   "cell_type": "code",
   "execution_count": 10,
   "metadata": {},
   "outputs": [
    {
     "data": {
      "text/plain": [
       "50"
      ]
     },
     "execution_count": 10,
     "metadata": {},
     "output_type": "execute_result"
    }
   ],
   "source": [
    "def square_sum(numbers):\n",
    "    \n",
    "    number_list = [(x**2) for x in numbers]\n",
    "    \n",
    "    return sum(number_list)\n",
    "\n",
    "square_sum([0, 3, 4, 5])"
   ]
  },
  {
   "attachments": {},
   "cell_type": "markdown",
   "metadata": {},
   "source": [
    "Make a function that will return a greeting statement that uses an input; your program should return, \"Hello, <name> how are you doing today?\".\n",
    "\n",
    "[Make sure you type the exact thing I wrote or the program may not execute properly]\n"
   ]
  },
  {
   "cell_type": "code",
   "execution_count": 12,
   "metadata": {},
   "outputs": [
    {
     "data": {
      "text/plain": [
       "'Hello, Ryan how are you doing today?'"
      ]
     },
     "execution_count": 12,
     "metadata": {},
     "output_type": "execute_result"
    }
   ],
   "source": [
    "def greet(name):\n",
    "    \n",
    "    return f\"Hello, {name} how are you doing today?\"\n",
    "\n",
    "greet('Ryan')\n",
    "    "
   ]
  },
  {
   "attachments": {},
   "cell_type": "markdown",
   "metadata": {},
   "source": [
    "It's pretty straightforward. Your goal is to create a function that removes the first and last characters of a string. You're given one parameter, the original string. You don't have to worry with strings with less than two characters."
   ]
  },
  {
   "cell_type": "code",
   "execution_count": 13,
   "metadata": {},
   "outputs": [
    {
     "data": {
      "text/plain": [
       "'loquen'"
      ]
     },
     "execution_count": 13,
     "metadata": {},
     "output_type": "execute_result"
    }
   ],
   "source": [
    "def remove_char(s):\n",
    "    \n",
    "    return s[1:-1]\n",
    "\n",
    "remove_char('Eloquent')"
   ]
  },
  {
   "attachments": {},
   "cell_type": "markdown",
   "metadata": {},
   "source": [
    "Write a function that accepts an integer n and a string s as parameters, and returns a string of s repeated exactly n times.\n",
    "Examples (input -> output)\n",
    "\n",
    "6, \"I\"     -> \"IIIIII\"\n",
    "5, \"Hello\" -> \"HelloHelloHelloHelloHello\"\n",
    "\n"
   ]
  },
  {
   "cell_type": "code",
   "execution_count": 14,
   "metadata": {},
   "outputs": [
    {
     "data": {
      "text/plain": [
       "'aaaa'"
      ]
     },
     "execution_count": 14,
     "metadata": {},
     "output_type": "execute_result"
    }
   ],
   "source": [
    "def repeat_str(repeat, string):\n",
    "    return (string)*repeat\n",
    "\n",
    "\n",
    "repeat_str(4, 'a')"
   ]
  },
  {
   "attachments": {},
   "cell_type": "markdown",
   "metadata": {},
   "source": [
    "Complete the function that takes a non-negative integer n as input, and returns a list of all the powers of 2 with the exponent ranging from 0 to n ( inclusive )."
   ]
  },
  {
   "cell_type": "code",
   "execution_count": 15,
   "metadata": {},
   "outputs": [
    {
     "data": {
      "text/plain": [
       "[1, 2, 4, 8, 16]"
      ]
     },
     "execution_count": 15,
     "metadata": {},
     "output_type": "execute_result"
    }
   ],
   "source": [
    "def powers_of_two(n):\n",
    "    \n",
    "    \n",
    "    return [2**i for i in range(n+1)]\n",
    "\n",
    "powers_of_two(4)"
   ]
  },
  {
   "attachments": {},
   "cell_type": "markdown",
   "metadata": {},
   "source": [
    "Timmy & Sarah think they are in love, but around where they live, they will only know once they pick a flower each. If one of the flowers has an even number of petals and the other has an odd number of petals it means they are in love.\n",
    "\n",
    "Write a function that will take the number of petals of each flower and return true if they are in love and false if they aren't.\n"
   ]
  },
  {
   "cell_type": "code",
   "execution_count": 3,
   "metadata": {},
   "outputs": [
    {
     "data": {
      "text/plain": [
       "False"
      ]
     },
     "execution_count": 3,
     "metadata": {},
     "output_type": "execute_result"
    }
   ],
   "source": [
    "def lovefunc( flower1, flower2 ):\n",
    "    flowers = flower1 + flower2\n",
    "    if (flower2 - flower1)%2 == 0 or (flower1 - flower2)%2 == 0:\n",
    "        return False\n",
    "    else:\n",
    "        return True\n",
    "    \n",
    "lovefunc(2,4)\n",
    "    "
   ]
  },
  {
   "attachments": {},
   "cell_type": "markdown",
   "metadata": {},
   "source": [
    "Write a function that takes an array of numbers and returns the sum of the numbers. The numbers can be negative or non-integer. If the array does not contain any numbers then you should return 0.\n",
    "\n",
    "Assumptions\n",
    "\n",
    "    You can assume that you are only given numbers.\n",
    "    You cannot assume the size of the array.\n",
    "    You can assume that you do get an array and if the array is empty, return 0.\n"
   ]
  },
  {
   "cell_type": "code",
   "execution_count": 2,
   "metadata": {},
   "outputs": [
    {
     "data": {
      "text/plain": [
       "10"
      ]
     },
     "execution_count": 2,
     "metadata": {},
     "output_type": "execute_result"
    }
   ],
   "source": [
    "def sum_array(a):\n",
    "    \n",
    "    return sum(a)\n",
    "\n",
    "sum_array([1,2,3,4])"
   ]
  },
  {
   "attachments": {},
   "cell_type": "markdown",
   "metadata": {},
   "source": [
    "Complete the method that takes a boolean value and return a \"Yes\" string for true, or a \"No\" string for false."
   ]
  },
  {
   "cell_type": "code",
   "execution_count": 18,
   "metadata": {},
   "outputs": [
    {
     "data": {
      "text/plain": [
       "'Yes'"
      ]
     },
     "execution_count": 18,
     "metadata": {},
     "output_type": "execute_result"
    }
   ],
   "source": [
    "def bool_to_word(boolean):\n",
    "    if boolean:\n",
    "        return \"Yes\"\n",
    "    else:\n",
    "        return \"No\"\n",
    "    \n",
    "bool_to_word(True)"
   ]
  },
  {
   "attachments": {},
   "cell_type": "markdown",
   "metadata": {},
   "source": [
    "Your task is to find the first element of an array that is not consecutive.\n",
    "\n",
    "By not consecutive we mean not exactly 1 larger than the previous element of the array.\n",
    "\n",
    "E.g. If we have an array [1,2,3,4,6,7,8] then 1 then 2 then 3 then 4 are all consecutive but 6 is not, so that's the first non-consecutive number.\n",
    "\n",
    "If the whole array is consecutive then return null2.\n",
    "\n",
    "The array will always have at least 2 elements1 and all elements will be numbers. The numbers will also all be unique and in ascending order. The numbers could be positive or negative and the first non-consecutive could be either too."
   ]
  },
  {
   "cell_type": "code",
   "execution_count": 20,
   "metadata": {},
   "outputs": [
    {
     "data": {
      "text/plain": [
       "6"
      ]
     },
     "execution_count": 20,
     "metadata": {},
     "output_type": "execute_result"
    }
   ],
   "source": [
    "def first_non_consecutive(arr):\n",
    "    for A in range(len(arr)):\n",
    "        if A + 1 < len(arr):\n",
    "            if arr[A] + 1 != arr[A + 1]:\n",
    "                return arr[A+1]\n",
    "        \n",
    "    return None\n",
    "    \n",
    "            \n",
    "first_non_consecutive([1,2,3,4,6,7,8])"
   ]
  },
  {
   "attachments": {},
   "cell_type": "markdown",
   "metadata": {},
   "source": [
    "Complete the solution so that it reverses the string passed into it.\n",
    "\n",
    "'world'  =>  'dlrow'\n",
    "'word'   =>  'drow'\n",
    "\n"
   ]
  },
  {
   "cell_type": "code",
   "execution_count": 21,
   "metadata": {},
   "outputs": [
    {
     "data": {
      "text/plain": [
       "'olleh'"
      ]
     },
     "execution_count": 21,
     "metadata": {},
     "output_type": "execute_result"
    }
   ],
   "source": [
    "def solution(string):\n",
    "    return (string[::-1])\n",
    "\n",
    "solution(\"hello\")"
   ]
  },
  {
   "attachments": {},
   "cell_type": "markdown",
   "metadata": {},
   "source": [
    "Sentence Smash\n",
    "\n",
    "Write a function that takes an array of words and smashes them together into a sentence and returns the sentence. You can ignore any need to sanitize words or add punctuation, but you should add spaces between each word. Be careful, there shouldn't be a space at the beginning or the end of the sentence!\n",
    "Example\n",
    "\n",
    "['hello', 'world', 'this', 'is', 'great']  =>  'hello world this is great'\n",
    "\n"
   ]
  },
  {
   "cell_type": "code",
   "execution_count": 23,
   "metadata": {},
   "outputs": [
    {
     "data": {
      "text/plain": [
       "'hello amazing world'"
      ]
     },
     "execution_count": 23,
     "metadata": {},
     "output_type": "execute_result"
    }
   ],
   "source": [
    "def smash(words):\n",
    "    \n",
    "    sentence = \" \".join(words)\n",
    "    \n",
    "    return sentence\n",
    "    \n",
    "smash([\"hello\", \"amazing\", \"world\"])"
   ]
  },
  {
   "attachments": {},
   "cell_type": "markdown",
   "metadata": {},
   "source": [
    "Given a string, you have to return a string in which each character (case-sensitive) is repeated once.\n",
    "Examples (Input -> Output):\n",
    "\n",
    "* \"String\"      -> \"SSttrriinngg\"\n",
    "* \"Hello World\" -> \"HHeelllloo  WWoorrlldd\"\n",
    "* \"1234!_ \"     -> \"11223344!!__  \"\n"
   ]
  },
  {
   "cell_type": "code",
   "execution_count": 24,
   "metadata": {},
   "outputs": [
    {
     "data": {
      "text/plain": [
       "'HHeelllloo  WWoorrlldd!!'"
      ]
     },
     "execution_count": 24,
     "metadata": {},
     "output_type": "execute_result"
    }
   ],
   "source": [
    "def double_char(s):\n",
    "    \n",
    "    result = \"\" \n",
    "    \n",
    "    for characters in s:\n",
    "        result += characters * 2\n",
    "        \n",
    "    return result\n",
    "\n",
    "double_char(\"Hello World\")"
   ]
  },
  {
   "attachments": {},
   "cell_type": "markdown",
   "metadata": {},
   "source": [
    "Given a set of numbers, return the additive inverse of each. Each positive becomes negatives, and the negatives become positives.\n",
    "\n",
    "invert([1,2,3,4,5]) == [-1,-2,-3,-4,-5]\n",
    "invert([1,-2,3,-4,5]) == [-1,2,-3,4,-5]\n",
    "invert([]) == []\n",
    "\n",
    "You can assume that all values are integers. Do not mutate the input array/list.\n"
   ]
  },
  {
   "cell_type": "code",
   "execution_count": 1,
   "metadata": {},
   "outputs": [
    {
     "data": {
      "text/plain": [
       "[-1, -2, -3, -4, -5]"
      ]
     },
     "execution_count": 1,
     "metadata": {},
     "output_type": "execute_result"
    }
   ],
   "source": [
    "def invert(lst):\n",
    "    \n",
    "    lst = [n-(n*2) for n in lst]\n",
    "        \n",
    "    return(lst)\n",
    "\n",
    "invert([1,2,3,4,5])"
   ]
  },
  {
   "attachments": {},
   "cell_type": "markdown",
   "metadata": {},
   "source": [
    "Write a program that returns the girl's age (0-9) as an integer.\n",
    "\n",
    "Assume the test input string is always a valid string. For example, the test input may be \"1 year old\" or \"5 years old\". The first character in the string is always a number."
   ]
  },
  {
   "cell_type": "code",
   "execution_count": 1,
   "metadata": {},
   "outputs": [
    {
     "data": {
      "text/plain": [
       "5"
      ]
     },
     "execution_count": 1,
     "metadata": {},
     "output_type": "execute_result"
    }
   ],
   "source": [
    "def get_age(age):\n",
    "    \n",
    "    realage = age.split()[0]\n",
    "    \n",
    "    return int(realage)\n",
    "\n",
    "get_age(\"5 years old\")"
   ]
  },
  {
   "attachments": {},
   "cell_type": "markdown",
   "metadata": {},
   "source": [
    "Task:\n",
    "\n",
    "Given a non-negative integer, 3 for example, return a string with a murmur: \"1 sheep...2 sheep...3 sheep...\". Input will always be valid, i.e. no negative integers."
   ]
  },
  {
   "cell_type": "code",
   "execution_count": 2,
   "metadata": {},
   "outputs": [
    {
     "data": {
      "text/plain": [
       "'1 sheep...2 sheep...3 sheep...'"
      ]
     },
     "execution_count": 2,
     "metadata": {},
     "output_type": "execute_result"
    }
   ],
   "source": [
    "def count_sheep(n):\n",
    "    \n",
    "    result = \"\"\n",
    "    for i in range(1, n+1):\n",
    "        result += str(i) + \" sheep...\"\n",
    "        \n",
    "        \n",
    "    return result\n",
    "\n",
    "count_sheep(3)"
   ]
  },
  {
   "attachments": {},
   "cell_type": "markdown",
   "metadata": {},
   "source": [
    "Your collegue wrote an simple loop to list his favourite animals. But there seems to be a minor mistake in the grammar, which prevents the program to work. Fix it! :)\n",
    "\n",
    "If you pass the list of your favourite animals to the function, you should get the list of the animals with orderings and newlines added.\n",
    "\n",
    "For example, passing in:\n",
    "\n",
    "animals = [ 'dog', 'cat', 'elephant' ]\n",
    "\n",
    "will result in:\n",
    "\n",
    "list_animals(animals) == '1. dog\\n2. cat\\n3. elephant\\n'\n",
    "\n"
   ]
  },
  {
   "cell_type": "code",
   "execution_count": 6,
   "metadata": {},
   "outputs": [
    {
     "data": {
      "text/plain": [
       "'1. dog\\n2. cat\\n3. elephant\\n4. bird\\n'"
      ]
     },
     "execution_count": 6,
     "metadata": {},
     "output_type": "execute_result"
    }
   ],
   "source": [
    "def list_animals(animals):\n",
    "    result = []\n",
    "    for animal in animals:\n",
    "        result.append(str(animals.index(animal) + 1) + '. ' + animal + '\\n')\n",
    "    return ''.join(result)\n",
    "\n",
    "list_animals(['dog','cat','elephant', 'bird'])"
   ]
  },
  {
   "attachments": {},
   "cell_type": "markdown",
   "metadata": {},
   "source": [
    "Create a function with two arguments that will return an array of the first n multiples of x.\n",
    "\n",
    "Assume both the given number and the number of times to count will be positive numbers greater than 0.\n",
    "\n",
    "Return the results as an array or list ( depending on language ).\n",
    "Examples\n",
    "\n",
    "count_by(1,10) #should return [1,2,3,4,5,6,7,8,9,10]\n",
    "count_by(2,5) #should return [2,4,6,8,10]\n"
   ]
  },
  {
   "cell_type": "code",
   "execution_count": 5,
   "metadata": {},
   "outputs": [
    {
     "data": {
      "text/plain": [
       "[3, 6, 9, 12, 15]"
      ]
     },
     "execution_count": 5,
     "metadata": {},
     "output_type": "execute_result"
    }
   ],
   "source": [
    "def count_by(x, n):\n",
    "    \n",
    "    result = []\n",
    "    \n",
    "    for i in range(1, n+1):\n",
    "        \n",
    "        result.append(i * x)\n",
    "    \n",
    "    return result\n",
    "\n",
    "count_by(1,5)\n",
    "count_by(2,5)\n",
    "count_by(3,5)"
   ]
  },
  {
   "attachments": {},
   "cell_type": "markdown",
   "metadata": {},
   "source": [
    "Write a function to convert a name into initials. This kata strictly takes two words with one space in between them.\n",
    "\n",
    "The output should be two capital letters with a dot separating them.\n",
    "\n",
    "It should look like this:\n",
    "\n",
    "Sam Harris => S.H\n",
    "\n",
    "patrick feeney => P.F\n"
   ]
  },
  {
   "cell_type": "code",
   "execution_count": 7,
   "metadata": {},
   "outputs": [
    {
     "data": {
      "text/plain": [
       "'E.C'"
      ]
     },
     "execution_count": 7,
     "metadata": {},
     "output_type": "execute_result"
    }
   ],
   "source": [
    "def abbrev_name(name):\n",
    "    \n",
    "    name_list = name.split()\n",
    "\n",
    "    initials = [names[0] for names in name_list]\n",
    "\n",
    "\n",
    "    return \".\".join(initials).upper()\n",
    "\n",
    "abbrev_name(\"Sam Harris\")\n",
    "abbrev_name(\"Evan Chris\")"
   ]
  },
  {
   "attachments": {},
   "cell_type": "markdown",
   "metadata": {},
   "source": [
    "Complete the function which takes two arguments and returns all numbers which are divisible by the given divisor. First argument is an array of numbers and the second is the divisor.\n",
    "Example(Input1, Input2 --> Output)\n",
    "\n",
    "[1, 2, 3, 4, 5, 6], 2 --> [2, 4, 6]\n",
    "\n"
   ]
  },
  {
   "cell_type": "code",
   "execution_count": 1,
   "metadata": {},
   "outputs": [
    {
     "data": {
      "text/plain": [
       "[2, 4, 6]"
      ]
     },
     "execution_count": 1,
     "metadata": {},
     "output_type": "execute_result"
    }
   ],
   "source": [
    "def divisible_by(numbers, divisor):\n",
    "    \n",
    "    listn = []\n",
    "    for number in numbers:\n",
    "        if number % divisor == 0:\n",
    "            listn.append(number)\n",
    "            \n",
    "    return listn\n",
    "\n",
    "divisible_by([1,2,3,4,5,6], 2) "
   ]
  },
  {
   "attachments": {},
   "cell_type": "markdown",
   "metadata": {},
   "source": [
    "Write a function to split a string and convert it into an array of words.\n",
    "Examples (Input ==> Output):\n",
    "\n",
    "\"Robin Singh\" ==> [\"Robin\", \"Singh\"]\n",
    "\n",
    "\"I love arrays they are my favorite\" ==> [\"I\", \"love\", \"arrays\", \"they\", \"are\", \"my\", \"favorite\"]\n",
    "\n"
   ]
  },
  {
   "cell_type": "code",
   "execution_count": 2,
   "metadata": {},
   "outputs": [
    {
     "data": {
      "text/plain": [
       "['CodeWars']"
      ]
     },
     "execution_count": 2,
     "metadata": {},
     "output_type": "execute_result"
    }
   ],
   "source": [
    "def string_to_array(s):\n",
    "    x = s.split(' ')\n",
    "    \n",
    "    return x\n",
    "\n",
    "string_to_array(\"CodeWars\")"
   ]
  },
  {
   "attachments": {},
   "cell_type": "markdown",
   "metadata": {},
   "source": [
    "Given an array of integers.\n",
    "\n",
    "Return an array, where the first element is the count of positives numbers and the second element is sum of negative numbers. 0 is neither positive nor negative.\n",
    "\n",
    "If the input is an empty array or is null, return an empty array.\n",
    "Example\n",
    "\n",
    "For input [1, 2, 3, 4, 5, 6, 7, 8, 9, 10, -11, -12, -13, -14, -15], you should return [10, -65"
   ]
  },
  {
   "cell_type": "code",
   "execution_count": null,
   "metadata": {},
   "outputs": [],
   "source": []
  },
  {
   "cell_type": "code",
   "execution_count": 3,
   "metadata": {},
   "outputs": [
    {
     "data": {
      "text/plain": [
       "[10, -65]"
      ]
     },
     "execution_count": 3,
     "metadata": {},
     "output_type": "execute_result"
    }
   ],
   "source": [
    "def count_positives_sum_negatives(arr):\n",
    "    if arr is None or len(arr) == 0:\n",
    "        return []\n",
    "\n",
    "    \n",
    "    positive = 0\n",
    "    \n",
    "    negatives = 0\n",
    "    \n",
    "    final = []\n",
    "    \n",
    "    count = 0\n",
    "    \n",
    "    for x in arr:\n",
    "        if x > 0:\n",
    "            positive += 1\n",
    "        else:\n",
    "            negatives += x\n",
    "    \n",
    "    \n",
    "    \n",
    "    return[positive, negatives]\n",
    "\n",
    "count_positives_sum_negatives([1,2,3,4,5,6,7,8,9,10,-11,-12,-13,-14,-15])"
   ]
  },
  {
   "attachments": {},
   "cell_type": "markdown",
   "metadata": {},
   "source": [
    "Write a function that removes the spaces from the string, then return the resultant string.\n",
    "\n",
    "Examples:\n",
    "\n",
    "Input -> Output\n",
    "\"8 j 8   mBliB8g  imjB8B8  jl  B\" -> \"8j8mBliB8gimjB8B8jlB\"\n",
    "\"8 8 Bi fk8h B 8 BB8B B B  B888 c hl8 BhB fd\" -> \"88Bifk8hB8BB8BBBB888chl8BhBfd\"\n",
    "\"8aaaaa dddd r     \" -> \"8aaaaaddddr\"\n",
    "\n"
   ]
  },
  {
   "cell_type": "code",
   "execution_count": 1,
   "metadata": {},
   "outputs": [
    {
     "data": {
      "text/plain": [
       "'8j8mBliB8gimjB8B8jlB'"
      ]
     },
     "execution_count": 1,
     "metadata": {},
     "output_type": "execute_result"
    }
   ],
   "source": [
    "def no_space(x):\n",
    "    x = x.replace(\" \", \"\")\n",
    "    return x\n",
    "    #your code here\n",
    "\n",
    "no_space('8 j 8   mBliB8g  imjB8B8  jl  B')"
   ]
  },
  {
   "attachments": {},
   "cell_type": "markdown",
   "metadata": {},
   "source": [
    "Given an array of integers, return a new array with each value doubled.\n",
    "\n",
    "For example:\n",
    "\n",
    "[1, 2, 3] --> [2, 4, 6]\n"
   ]
  },
  {
   "cell_type": "code",
   "execution_count": 1,
   "metadata": {},
   "outputs": [
    {
     "data": {
      "text/plain": [
       "[2, 4, 6]"
      ]
     },
     "execution_count": 1,
     "metadata": {},
     "output_type": "execute_result"
    }
   ],
   "source": [
    "def maps(a):\n",
    "    b = [x * 2 for x in a]\n",
    "\n",
    "        \n",
    "    return b\n",
    "\n",
    "maps([1,2,3])"
   ]
  },
  {
   "attachments": {},
   "cell_type": "markdown",
   "metadata": {},
   "source": [
    "Given a non-empty array of integers, return the result of multiplying the values together in order. Example:\n",
    "\n",
    "[1, 2, 3, 4] => 1 * 2 * 3 * 4 = 24\n",
    "\n"
   ]
  },
  {
   "cell_type": "code",
   "execution_count": 2,
   "metadata": {},
   "outputs": [
    {
     "data": {
      "text/plain": [
       "6"
      ]
     },
     "execution_count": 2,
     "metadata": {},
     "output_type": "execute_result"
    }
   ],
   "source": [
    "def grow(arr):\n",
    "    result = 1\n",
    "\n",
    "# multiply each element in the list \n",
    "    for x in arr:\n",
    "        result *= x\n",
    "        \n",
    "    return result\n",
    "\n",
    "grow([1,2,3])"
   ]
  },
  {
   "attachments": {},
   "cell_type": "markdown",
   "metadata": {},
   "source": [
    "What if we need the length of the words separated by a space to be added at the end of that same word and have it returned as an array?\n",
    "\n",
    "Example(Input --> Output)\n",
    "\n",
    "\"apple ban\" --> [\"apple 5\", \"ban 3\"]\n",
    "\"you will win\" -->[\"you 3\", \"will 4\", \"win 3\"]\n",
    "\n",
    "Your task is to write a function that takes a String and returns an Array/list with the length of each word added to each element .\n",
    "\n",
    "Note: String will have at least one element; words will always be separated by a space.\n"
   ]
  },
  {
   "cell_type": "code",
   "execution_count": 3,
   "metadata": {},
   "outputs": [
    {
     "data": {
      "text/plain": [
       "['you 3', 'will 4', 'win 3']"
      ]
     },
     "execution_count": 3,
     "metadata": {},
     "output_type": "execute_result"
    }
   ],
   "source": [
    "def add_length(str_):\n",
    "    count = 0\n",
    "    \n",
    "            \n",
    "    newlist = str_.split(\" \")\n",
    "    \n",
    "    newnewlist = []\n",
    "\n",
    "    for x in newlist:\n",
    "        count += len(x)\n",
    "        newnewlist.append(x + \" \" + str(len(x)))\n",
    "        \n",
    "    \n",
    "            \n",
    "\n",
    "    return newnewlist\n",
    "        \n",
    "    \n",
    "    \n",
    "    \n",
    "add_length('you will win')"
   ]
  },
  {
   "attachments": {},
   "cell_type": "markdown",
   "metadata": {},
   "source": [
    "Take an array and remove every second element from the array. Always keep the first element and start removing with the next element.\n",
    "Example:\n",
    "\n",
    "[\"Keep\", \"Remove\", \"Keep\", \"Remove\", \"Keep\", ...] --> [\"Keep\", \"Keep\", \"Keep\", ...]\n",
    "\n",
    "None of the arrays will be empty, so you don't have to worry about that!\n"
   ]
  },
  {
   "cell_type": "code",
   "execution_count": 4,
   "metadata": {},
   "outputs": [
    {
     "data": {
      "text/plain": [
       "['Hello']"
      ]
     },
     "execution_count": 4,
     "metadata": {},
     "output_type": "execute_result"
    }
   ],
   "source": [
    "def remove_every_other(my_list):\n",
    "\n",
    "    modified_list = my_list[::2]\n",
    "    \n",
    "\n",
    "   \n",
    "        \n",
    "    return modified_list\n",
    "\n",
    "remove_every_other(['Hello', 'Hello Again'])\n",
    "            "
   ]
  },
  {
   "attachments": {},
   "cell_type": "markdown",
   "metadata": {},
   "source": [
    "Welcome. In this kata, you are asked to square every digit of a number and concatenate them.\n",
    "\n",
    "For example, if we run 9119 through the function, 811181 will come out, because 92 is 81 and 12 is 1. (81-1-1-81)\n",
    "\n",
    "Example #2: An input of 765 will/should return 493625 because 72 is 49, 62 is 36, and 52 is 25. (49-36-25)\n",
    "\n",
    "Note: The function accepts an integer and returns an integer.\n",
    "\n",
    "Happy Coding!\n"
   ]
  },
  {
   "cell_type": "code",
   "execution_count": 1,
   "metadata": {},
   "outputs": [
    {
     "data": {
      "text/plain": [
       "811181"
      ]
     },
     "execution_count": 1,
     "metadata": {},
     "output_type": "execute_result"
    }
   ],
   "source": [
    "def square_digits(num):\n",
    "\n",
    "    charterList = [int(x) for x in str(num)]\n",
    "    \n",
    "    charterList2 = [num**2 for num in charterList]\n",
    "    \n",
    "    charterList3 = [str(i) for i in charterList2]\n",
    "    \n",
    "    \n",
    "\n",
    "    \n",
    "    res = int(\"\".join(charterList3))\n",
    "    \n",
    "    return res\n",
    "    \n",
    "square_digits(9119)"
   ]
  },
  {
   "attachments": {},
   "cell_type": "markdown",
   "metadata": {},
   "source": [
    "This function should test if the factor is a factor of base.\n",
    "\n",
    "Return true if it is a factor or false if it is not.\n",
    "About factors\n",
    "\n",
    "Factors are numbers you can multiply together to get another number.\n",
    "\n",
    "2 and 3 are factors of 6 because: 2 * 3 = 6\n",
    "\n",
    "    You can find a factor by dividing numbers. If the remainder is 0 then the number is a factor.\n",
    "    You can use the mod operator (%) in most languages to check for a remainder\n",
    "\n",
    "For example 2 is not a factor of 7 because: 7 % 2 = 1\n",
    "\n",
    "Note: base is a non-negative number, factor is a positive number.\n"
   ]
  },
  {
   "cell_type": "code",
   "execution_count": 2,
   "metadata": {},
   "outputs": [
    {
     "data": {
      "text/plain": [
       "True"
      ]
     },
     "execution_count": 2,
     "metadata": {},
     "output_type": "execute_result"
    }
   ],
   "source": [
    "def check_for_factor(base, factor):\n",
    "    \n",
    "    if base % factor == 0:\n",
    "        return True\n",
    "    else:\n",
    "        return False\n",
    "    \n",
    "\n",
    "check_for_factor(10,2)"
   ]
  },
  {
   "attachments": {},
   "cell_type": "markdown",
   "metadata": {},
   "source": [
    "Find Mean\n",
    "\n",
    "Find the mean (average) of a list of numbers in an array.\n",
    "Information\n",
    "\n",
    "To find the mean (average) of a set of numbers add all of the numbers together and divide by the number of values in the list.\n",
    "\n",
    "For an example list of 1, 3, 5, 7\n",
    "\n",
    "1. Add all of the numbers\n",
    "\n",
    "1+3+5+7 = 16\n",
    "\n",
    "2. Divide by the number of values in the list. In this example there are 4 numbers in the list.\n",
    "\n",
    "16/4 = 4\n",
    "\n",
    "3. The mean (or average) of this list is 4\n"
   ]
  },
  {
   "cell_type": "code",
   "execution_count": 1,
   "metadata": {},
   "outputs": [
    {
     "data": {
      "text/plain": [
       "4.0"
      ]
     },
     "execution_count": 1,
     "metadata": {},
     "output_type": "execute_result"
    }
   ],
   "source": [
    "def find_average(nums):\n",
    "    \n",
    "    r1 = len(nums)\n",
    "    \n",
    "    summ = sum(nums)\n",
    "    \n",
    "    if r1 > 0 and summ > 0:\n",
    "        mean = summ / r1\n",
    "    else:\n",
    "        mean = 0\n",
    "    \n",
    "    \n",
    "    return mean\n",
    "\n",
    "find_average([1,3,5,7])"
   ]
  },
  {
   "attachments": {},
   "cell_type": "markdown",
   "metadata": {},
   "source": [
    "Complete the function that takes two integers (a, b, where a < b) and return an array of all integers between the input parameters, including them.\n",
    "\n",
    "For example:\n",
    "\n",
    "a = 1\n",
    "b = 4\n",
    "--> [1, 2, 3, 4]\n",
    "\n"
   ]
  },
  {
   "cell_type": "code",
   "execution_count": 3,
   "metadata": {},
   "outputs": [
    {
     "data": {
      "text/plain": [
       "[2, 3, 4]"
      ]
     },
     "execution_count": 3,
     "metadata": {},
     "output_type": "execute_result"
    }
   ],
   "source": [
    "def between(a,b):\n",
    "    \n",
    "    return list(range(a, b + 1))\n",
    "\n",
    "\n",
    "\n",
    "between(2,4)\n",
    "\n"
   ]
  },
  {
   "attachments": {},
   "cell_type": "markdown",
   "metadata": {},
   "source": [
    "Return the Nth Even Number\n",
    "\n",
    "Example(Input --> Output)\n",
    "\n",
    "1 --> 0 (the first even number is 0)\n",
    "3 --> 4 (the 3rd even number is 4 (0, 2, 4))\n",
    "100 --> 198\n",
    "1298734 --> 2597466\n",
    "\n",
    "The input will not be 0.\n"
   ]
  },
  {
   "cell_type": "code",
   "execution_count": 4,
   "metadata": {},
   "outputs": [
    {
     "data": {
      "text/plain": [
       "4"
      ]
     },
     "execution_count": 4,
     "metadata": {},
     "output_type": "execute_result"
    }
   ],
   "source": [
    "def nth_even(n):\n",
    "    even_number = 2 * (n - 1)\n",
    "    \n",
    "    return even_number\n",
    "\n",
    "nth_even(3)"
   ]
  },
  {
   "attachments": {},
   "cell_type": "markdown",
   "metadata": {},
   "source": [
    "Simple, given a string of words, return the length of the shortest word(s).\n",
    "\n",
    "String will never be empty and you do not need to account for different data types.\n"
   ]
  },
  {
   "cell_type": "code",
   "execution_count": 6,
   "metadata": {},
   "outputs": [
    {
     "data": {
      "text/plain": [
       "3"
      ]
     },
     "execution_count": 6,
     "metadata": {},
     "output_type": "execute_result"
    }
   ],
   "source": [
    "def find_short(s):\n",
    "    elist = s.split()\n",
    "    \n",
    "    elist2 =  [len(i) for i in elist]\n",
    "    \n",
    "    return min(elist2)\n",
    "\n",
    "find_short(\"turns out random test cases are easier than writing out basic ones\")"
   ]
  },
  {
   "attachments": {},
   "cell_type": "markdown",
   "metadata": {},
   "source": [
    "Please write a function that sums a list, but ignores any duplicate items in the list.\n",
    "\n",
    "For instance, for the list [3, 4, 3, 6] , the function should return 10.\n"
   ]
  },
  {
   "cell_type": "code",
   "execution_count": 7,
   "metadata": {},
   "outputs": [
    {
     "data": {
      "text/plain": [
       "5"
      ]
     },
     "execution_count": 7,
     "metadata": {},
     "output_type": "execute_result"
    }
   ],
   "source": [
    "def sum_no_duplicates(l):\n",
    "    unique_list = []\n",
    "\n",
    "    counts = {}\n",
    "\n",
    "    for element in l:\n",
    "        if element in counts:\n",
    "            counts[element] += 1\n",
    "        else:\n",
    "            counts[element] = 1\n",
    "\n",
    "\n",
    "    for element, count in counts.items():\n",
    "        if count > 1:\n",
    "            \n",
    "            for _ in range(count):\n",
    "                l.remove(element)\n",
    "\n",
    "    return sum(l)\n",
    "\n",
    "sum_no_duplicates([1,1,2,3,4])"
   ]
  }
 ],
 "metadata": {
  "kernelspec": {
   "display_name": "Python 3",
   "language": "python",
   "name": "python3"
  },
  "language_info": {
   "codemirror_mode": {
    "name": "ipython",
    "version": 3
   },
   "file_extension": ".py",
   "mimetype": "text/x-python",
   "name": "python",
   "nbconvert_exporter": "python",
   "pygments_lexer": "ipython3",
   "version": "3.11.2"
  },
  "orig_nbformat": 4,
  "vscode": {
   "interpreter": {
    "hash": "5238573367df39f7286bb46f9ff5f08f63a01a80960060ce41e3c79b190280fa"
   }
  }
 },
 "nbformat": 4,
 "nbformat_minor": 2
}
