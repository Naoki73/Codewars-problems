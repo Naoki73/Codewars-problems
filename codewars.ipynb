{
 "cells": [
  {
   "attachments": {},
   "cell_type": "markdown",
   "metadata": {},
   "source": [
    "Your task is to make two functions ( max and min, or maximum and minimum, etc., depending on the language ) that receive a list of integers as input, and return the largest and lowest number in that list, respectively.\n",
    "Examples (Input -> Output)\n",
    "\n",
    "* [4,6,2,1,9,63,-134,566]         -> max = 566, min = -134\n",
    "* [-52, 56, 30, 29, -54, 0, -110] -> min = -110, max = 56\n",
    "* [42, 54, 65, 87, 0]             -> min = 0, max = 87\n",
    "* [5]                             -> min = 5, max = 5\n",
    "\n",
    "Notes\n",
    "\n",
    "    You may consider that there will not be any empty arrays/vectors.\n",
    "\n"
   ]
  },
  {
   "cell_type": "code",
   "execution_count": 4,
   "metadata": {},
   "outputs": [
    {
     "data": {
      "text/plain": [
       "566"
      ]
     },
     "execution_count": 4,
     "metadata": {},
     "output_type": "execute_result"
    }
   ],
   "source": [
    "def minimum(arr):\n",
    "    return min(arr)\n",
    "\n",
    "def maximum(arr):\n",
    "    return max(arr)\n",
    "\n",
    "\n",
    "\n",
    "\n",
    "minimum([4,6,2,1,9,63,-134,566] )\n",
    "\n",
    "maximum([4,6,2,1,9,63,-134,566] )"
   ]
  },
  {
   "attachments": {},
   "cell_type": "markdown",
   "metadata": {},
   "source": [
    "Write function RemoveExclamationMarks which removes all exclamation marks from a given string."
   ]
  },
  {
   "cell_type": "code",
   "execution_count": 5,
   "metadata": {},
   "outputs": [
    {
     "data": {
      "text/plain": [
       "'Hello World'"
      ]
     },
     "execution_count": 5,
     "metadata": {},
     "output_type": "execute_result"
    }
   ],
   "source": [
    "def remove_exclamation_marks(s):\n",
    "    return s.replace(\"!\",\"\")\n",
    "\n",
    "remove_exclamation_marks(\"Hello World!!!\")"
   ]
  },
  {
   "attachments": {},
   "cell_type": "markdown",
   "metadata": {},
   "source": [
    "This code does not execute properly. Try to figure out why.\n",
    "\n",
    "def multiply(a, b):\n",
    "    a * b"
   ]
  },
  {
   "cell_type": "code",
   "execution_count": 7,
   "metadata": {},
   "outputs": [
    {
     "data": {
      "text/plain": [
       "2"
      ]
     },
     "execution_count": 7,
     "metadata": {},
     "output_type": "execute_result"
    }
   ],
   "source": [
    "def multiply(a, b):\n",
    "    answer = a * b \n",
    "    \n",
    "    return answer\n",
    "\n",
    "multiply(2,1)\n",
    "    "
   ]
  },
  {
   "attachments": {},
   "cell_type": "markdown",
   "metadata": {},
   "source": [
    "Complete function saleHotdogs/SaleHotDogs/sale_hotdogs, function accepts 1 parameter:n, n is the number of hotdogs a customer will buy, different numbers have different prices (refer to the following table), return how much money will the customer spend to buy that number of hotdogs."
   ]
  },
  {
   "cell_type": "code",
   "execution_count": 8,
   "metadata": {},
   "outputs": [
    {
     "data": {
      "text/plain": [
       "475"
      ]
     },
     "execution_count": 8,
     "metadata": {},
     "output_type": "execute_result"
    }
   ],
   "source": [
    "def sale_hotdogs(n):\n",
    "    if n < 5:\n",
    "        price = 100 * n\n",
    "    elif n < 10 and n >= 5:\n",
    "        price = 95 * n\n",
    "    else:\n",
    "        price = 90 * n\n",
    "    return price\n",
    "\n",
    "sale_hotdogs(5)"
   ]
  },
  {
   "attachments": {},
   "cell_type": "markdown",
   "metadata": {},
   "source": [
    "This function should return an object, but it's not doing what's intended. What's wrong?\n",
    "\n",
    "def mystery():\n",
    "    results = {\n",
    "    'sanity': 'Hello'}\n",
    "    return\n",
    "    results"
   ]
  },
  {
   "cell_type": "code",
   "execution_count": 9,
   "metadata": {},
   "outputs": [
    {
     "data": {
      "text/plain": [
       "{'sanity': 'Hello'}"
      ]
     },
     "execution_count": 9,
     "metadata": {},
     "output_type": "execute_result"
    }
   ],
   "source": [
    "def mystery():\n",
    "    results = {\n",
    "    'sanity': 'Hello'}\n",
    "    return results\n",
    "\n",
    "mystery()"
   ]
  },
  {
   "attachments": {},
   "cell_type": "markdown",
   "metadata": {},
   "source": [
    "Inspired by the development team at Vooza, write the function that\n",
    "\n",
    "    accepts the name of a programmer, and\n",
    "    returns the number of lightsabers owned by that person.\n",
    "\n",
    "The only person who owns lightsabers is Zach, by the way. He owns 18, which is an awesome number of lightsabers. Anyone else owns 0.\n",
    "\n",
    "Note: your function should have a default parameter.\n",
    "\n",
    "For example(Input --> Output):\n",
    "\n",
    "\"anyone else\" --> 0\n",
    "\"Zach\" --> 18\n",
    "\n"
   ]
  },
  {
   "cell_type": "code",
   "execution_count": 10,
   "metadata": {},
   "outputs": [
    {
     "name": "stdout",
     "output_type": "stream",
     "text": [
      "18\n"
     ]
    }
   ],
   "source": [
    "def how_many_light_sabers_do_you_own(name=\"\"):\n",
    "    if name == \"Zach\":\n",
    "        return 18\n",
    "    else:\n",
    "        return 0\n",
    "    \n",
    "lightsabers = how_many_light_sabers_do_you_own(\"Zach\")\n",
    "\n",
    "print(lightsabers)"
   ]
  },
  {
   "attachments": {},
   "cell_type": "markdown",
   "metadata": {},
   "source": [
    "Write a function that checks if a given string (case insensitive) is a palindrome."
   ]
  },
  {
   "cell_type": "code",
   "execution_count": 11,
   "metadata": {},
   "outputs": [
    {
     "data": {
      "text/plain": [
       "True"
      ]
     },
     "execution_count": 11,
     "metadata": {},
     "output_type": "execute_result"
    }
   ],
   "source": [
    "def is_palindrome(s):\n",
    "    \n",
    "    if s.lower() == s.lower()[::-1]:\n",
    "        return True\n",
    "    else:\n",
    "        return False\n",
    "\n",
    "is_palindrome('racecar')\n",
    "    "
   ]
  },
  {
   "attachments": {},
   "cell_type": "markdown",
   "metadata": {},
   "source": [
    "Debugging sayHello function\n",
    "\n",
    "The starship Enterprise has run into some problem when creating a program to greet everyone as they come aboard. It is your job to fix the code and get the program working again!\n",
    "\n",
    "Example output:\n",
    "\n",
    "Hello, Mr. Spock\n",
    "\n"
   ]
  },
  {
   "cell_type": "code",
   "execution_count": 12,
   "metadata": {},
   "outputs": [
    {
     "data": {
      "text/plain": [
       "'Hello, Mr. Spock'"
      ]
     },
     "execution_count": 12,
     "metadata": {},
     "output_type": "execute_result"
    }
   ],
   "source": [
    "def say_hello(name):\n",
    "    return (\"Hello, \" + name)\n",
    "\n",
    "say_hello(\"Mr. Spock\")"
   ]
  },
  {
   "attachments": {},
   "cell_type": "markdown",
   "metadata": {},
   "source": [
    "altERnaTIng cAsE <=> ALTerNAtiNG CaSe\n",
    "\n",
    "Define String.prototype.toAlternatingCase (or a similar function/method such as to_alternating_case/toAlternatingCase/ToAlternatingCase in your selected language; see the initial solution for details) such that each lowercase letter becomes uppercase and each uppercase letter becomes lowercase. For example:\n",
    "\n",
    "\"hello world\".toAlternatingCase() === \"HELLO WORLD\"\n",
    "\"HELLO WORLD\".toAlternatingCase() === \"hello world\"\n",
    "\"hello WORLD\".toAlternatingCase() === \"HELLO world\"\n",
    "\"HeLLo WoRLD\".toAlternatingCase() === \"hEllO wOrld\"\n",
    "\"12345\".toAlternatingCase()       === \"12345\"                   // Non-alphabetical characters are unaffected\n",
    "\"1a2b3c4d5e\".toAlternatingCase()  === \"1A2B3C4D5E\"\n",
    "\"String.prototype.toAlternatingCase\".toAlternatingCase() === \"sTRING.PROTOTYPE.TOaLTERNATINGcASE\"\n",
    "\n",
    "As usual, your function/method should be pure, i.e. it should not mutate the original string.\n"
   ]
  },
  {
   "cell_type": "code",
   "execution_count": 13,
   "metadata": {},
   "outputs": [
    {
     "data": {
      "text/plain": [
       "'HELLO world'"
      ]
     },
     "execution_count": 13,
     "metadata": {},
     "output_type": "execute_result"
    }
   ],
   "source": [
    "def to_alternating_case(string):\n",
    "    return string.swapcase()\n",
    "\n",
    "to_alternating_case(\"hello WORLD\")"
   ]
  },
  {
   "attachments": {},
   "cell_type": "markdown",
   "metadata": {},
   "source": [
    "Task:\n",
    "\n",
    "In this kata, you need to return the number of bytes (aka. memory size) a given object takes up.\n",
    "\n",
    "Different variable types will be given, but they will all be valid. Also, random generation for strings takes out of Unicode, not the regular 255 ascii letters.\n",
    "\n",
    "p.s: Don't be afraid to use the internet. It \"byte\" come in handy :)"
   ]
  },
  {
   "cell_type": "code",
   "execution_count": 14,
   "metadata": {},
   "outputs": [
    {
     "data": {
      "text/plain": [
       "28"
      ]
     },
     "execution_count": 14,
     "metadata": {},
     "output_type": "execute_result"
    }
   ],
   "source": [
    "import sys\n",
    "\n",
    "def total_bytes(object):\n",
    "    return sys.getsizeof(object)\n",
    "\n",
    "total_bytes(123)"
   ]
  },
  {
   "attachments": {},
   "cell_type": "markdown",
   "metadata": {},
   "source": [
    "Description\n",
    "\n",
    "We need a function that can transform a string into a number. What ways of achieving this do you know?\n",
    "\n",
    "Note: Don't worry, all inputs will be strings, and every string is a perfectly valid representation of an integral number.\n",
    "Examples\n",
    "\n",
    "\"1234\" --> 1234\n",
    "\"605\"  --> 605\n",
    "\"1405\" --> 1405\n",
    "\"-7\" --> -7\n"
   ]
  },
  {
   "cell_type": "code",
   "execution_count": 16,
   "metadata": {},
   "outputs": [
    {
     "data": {
      "text/plain": [
       "1234"
      ]
     },
     "execution_count": 16,
     "metadata": {},
     "output_type": "execute_result"
    }
   ],
   "source": [
    "def string_to_number(s):\n",
    "    return int(s)\n",
    "    \n",
    "string_to_number(\"1234\")"
   ]
  },
  {
   "attachments": {},
   "cell_type": "markdown",
   "metadata": {},
   "source": [
    "This code should store \"codewa.rs\" as a variable called name but it's not working. Can you figure out why?"
   ]
  },
  {
   "cell_type": "code",
   "execution_count": 17,
   "metadata": {},
   "outputs": [],
   "source": [
    "a = \"code\"\n",
    "b = \"wa.rs\"\n",
    "name = a + b"
   ]
  },
  {
   "attachments": {},
   "cell_type": "markdown",
   "metadata": {},
   "source": [
    "Write a function that takes a list of strings as an argument and returns a filtered list containing the same elements but with the 'geese' removed.\n",
    "\n",
    "The geese are any strings in the following array, which is pre-populated in your solution:\n",
    "\n",
    "  [\"African\", \"Roman Tufted\", \"Toulouse\", \"Pilgrim\", \"Steinbacher\"]\n",
    "\n",
    "For example, if this array were passed as an argument:\n",
    "\n",
    " [\"Mallard\", \"Hook Bill\", \"African\", \"Crested\", \"Pilgrim\", \"Toulouse\", \"Blue Swedish\"]\n",
    "\n",
    "Your function would return the following array:\n",
    "\n",
    "[\"Mallard\", \"Hook Bill\", \"Crested\", \"Blue Swedish\"]\n",
    "\n",
    "The elements in the returned array should be in the same order as in the initial array passed to your function, albeit with the 'geese' removed. Note that all of the strings will be in the same case as those provided, and some elements may be repeated.\n"
   ]
  },
  {
   "cell_type": "code",
   "execution_count": 19,
   "metadata": {},
   "outputs": [
    {
     "data": {
      "text/plain": [
       "['Mallard', 'Barbary', 'Hook Bill', 'Blue Swedish', 'Crested']"
      ]
     },
     "execution_count": 19,
     "metadata": {},
     "output_type": "execute_result"
    }
   ],
   "source": [
    "geese = [\"African\", \"Roman Tufted\", \"Toulouse\", \"Pilgrim\", \"Steinbacher\"]\n",
    "def goose_filter(birds):\n",
    "    geese = [\"African\", \"Roman Tufted\", \"Toulouse\", \"Pilgrim\", \"Steinbacher\"]\n",
    "    \n",
    "    return [bird for bird in birds if bird not in geese]\n",
    "\n",
    "goose_filter([\"Mallard\", \"Barbary\", \"Hook Bill\", \"Blue Swedish\", \"Crested\"])"
   ]
  },
  {
   "cell_type": "markdown",
   "metadata": {},
   "source": []
  }
 ],
 "metadata": {
  "kernelspec": {
   "display_name": "Python 3",
   "language": "python",
   "name": "python3"
  },
  "language_info": {
   "codemirror_mode": {
    "name": "ipython",
    "version": 3
   },
   "file_extension": ".py",
   "mimetype": "text/x-python",
   "name": "python",
   "nbconvert_exporter": "python",
   "pygments_lexer": "ipython3",
   "version": "3.11.2"
  },
  "orig_nbformat": 4
 },
 "nbformat": 4,
 "nbformat_minor": 2
}
